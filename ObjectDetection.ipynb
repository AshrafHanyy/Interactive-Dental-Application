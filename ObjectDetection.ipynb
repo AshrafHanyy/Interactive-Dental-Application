{
 "cells": [
  {
   "cell_type": "code",
   "execution_count": 2,
   "metadata": {},
   "outputs": [
    {
     "name": "stdout",
     "output_type": "stream",
     "text": [
      "Error: Could not open the camera.\n",
      "Error: Failed to capture image.\n"
     ]
    },
    {
     "ename": "",
     "evalue": "",
     "output_type": "error",
     "traceback": [
      "\u001b[1;31mThe Kernel crashed while executing code in the the current cell or a previous cell. Please review the code in the cell(s) to identify a possible cause of the failure. Click <a href='https://aka.ms/vscodeJupyterKernelCrash'>here</a> for more info. View Jupyter <a href='command:jupyter.viewOutput'>log</a> for further details."
     ]
    }
   ],
   "source": [
    "import cv2\n",
    "from ultralytics import YOLO\n",
    "\n",
    "# Load the pre-trained YOLO model (YOLOv5 or YOLOv8)\n",
    "model = YOLO(r\"C:\\Users\\Lenovo\\Downloads\\best.pt\")  # Use raw string to avoid escape sequence issues\n",
    "\n",
    "# Initialize the camera (0 for the default camera)\n",
    "cap = cv2.VideoCapture(0)\n",
    "\n",
    "# Check if the camera is opened successfully\n",
    "if not cap.isOpened():\n",
    "    print(\"Error: Could not open the camera.\")\n",
    "    exit()\n",
    "\n",
    "while True:\n",
    "    # Capture frame-by-frame\n",
    "    ret, frame = cap.read()\n",
    "\n",
    "    if not ret:\n",
    "        print(\"Error: Failed to capture image.\")\n",
    "        break\n",
    "\n",
    "    # Perform YOLO inference on the captured frame\n",
    "    results = model(frame)  # This applies the YOLO model to the frame\n",
    "\n",
    "    # Access the first result (in case of batch inference)\n",
    "    result = results[0]\n",
    "\n",
    "    # Extract the class names from the model\n",
    "    class_names = result.names\n",
    "\n",
    "    # Annotate the frame with the results (bounding boxes, class labels, etc.)\n",
    "    annotated_frame = result.plot()  # This adds bounding boxes, labels, etc.\n",
    "\n",
    "    # Loop through the detected boxes and print the class names\n",
    "    for cls in result.boxes.cls:  # result.boxes.cls contains the class indices for detected objects\n",
    "        class_name = class_names[int(cls)]  # Convert the class index to the class name\n",
    "        print(class_name)\n",
    "\n",
    "    # Display the resulting frame with YOLO predictions\n",
    "    cv2.imshow(\"YOLO Object Detection\", annotated_frame)\n",
    "\n",
    "    # Wait for the 'q' key to be pressed, and break the loop\n",
    "    if cv2.waitKey(1) & 0xFF == ord('q'):\n",
    "        break\n",
    "\n",
    "# Release the capture object and close any OpenCV windows\n",
    "cap.release()\n",
    "cv2.destroyAllWindows()"
   ]
  },
  {
   "cell_type": "code",
   "execution_count": null,
   "metadata": {},
   "outputs": [],
   "source": []
  }
 ],
 "metadata": {
  "kernelspec": {
   "display_name": "Python 3.12.1 64-bit",
   "language": "python",
   "name": "python3"
  },
  "language_info": {
   "codemirror_mode": {
    "name": "ipython",
    "version": 3
   },
   "file_extension": ".py",
   "mimetype": "text/x-python",
   "name": "python",
   "nbconvert_exporter": "python",
   "pygments_lexer": "ipython3",
   "version": "3.12.1"
  },
  "orig_nbformat": 4,
  "vscode": {
   "interpreter": {
    "hash": "58cd16b22a53e8f225f4346339c6fbc90226716455e73ccb384283f30efeb411"
   }
  }
 },
 "nbformat": 4,
 "nbformat_minor": 2
}
